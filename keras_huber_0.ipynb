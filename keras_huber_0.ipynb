{
  "nbformat": 4,
  "nbformat_minor": 0,
  "metadata": {
    "colab": {
      "name": "keras_huber_0.ipynb",
      "provenance": [],
      "collapsed_sections": [],
      "authorship_tag": "ABX9TyOAzfAilxL/TdOlclGCBK6j",
      "include_colab_link": true
    },
    "kernelspec": {
      "name": "python3",
      "display_name": "Python 3"
    }
  },
  "cells": [
    {
      "cell_type": "markdown",
      "metadata": {
        "id": "view-in-github",
        "colab_type": "text"
      },
      "source": [
        "<a href=\"https://colab.research.google.com/github/alabtsai/Audio_Signal_Processing/blob/master/keras_huber_0.ipynb\" target=\"_parent\"><img src=\"https://colab.research.google.com/assets/colab-badge.svg\" alt=\"Open In Colab\"/></a>"
      ]
    },
    {
      "cell_type": "code",
      "metadata": {
        "id": "N_KmiolZuhez"
      },
      "source": [
        "import tensorflow as tf\n",
        "import numpy as np"
      ],
      "execution_count": 1,
      "outputs": []
    },
    {
      "cell_type": "code",
      "metadata": {
        "id": "VVWs2cuxZ40_"
      },
      "source": [
        "from tensorflow import keras"
      ],
      "execution_count": 4,
      "outputs": []
    },
    {
      "cell_type": "code",
      "metadata": {
        "id": "P7E82aCGvm5w"
      },
      "source": [
        "from tensorflow.python.keras.utils.vis_utils import plot_model"
      ],
      "execution_count": 20,
      "outputs": []
    },
    {
      "cell_type": "code",
      "metadata": {
        "id": "4dxEpVrVuk7B",
        "colab": {
          "base_uri": "https://localhost:8080/",
          "height": 35
        },
        "outputId": "21c8aead-797c-4c99-a40c-52ce1ce19928"
      },
      "source": [
        "tf.__version__"
      ],
      "execution_count": 2,
      "outputs": [
        {
          "output_type": "execute_result",
          "data": {
            "application/vnd.google.colaboratory.intrinsic+json": {
              "type": "string"
            },
            "text/plain": [
              "'2.4.1'"
            ]
          },
          "metadata": {
            "tags": []
          },
          "execution_count": 2
        }
      ]
    },
    {
      "cell_type": "markdown",
      "metadata": {
        "id": "w4WN1JZyv-1d"
      },
      "source": [
        "Sequential API"
      ]
    },
    {
      "cell_type": "code",
      "metadata": {
        "id": "XPGhB61wZoNO"
      },
      "source": [
        "model = tf.keras.Sequential( [keras.layers.Dense(units=1, input_shape=[1])] )  "
      ],
      "execution_count": 6,
      "outputs": []
    },
    {
      "cell_type": "code",
      "metadata": {
        "colab": {
          "base_uri": "https://localhost:8080/"
        },
        "id": "l8APDmXlbps4",
        "outputId": "1986c6fd-d1d7-45f8-aae0-54ab216d5002"
      },
      "source": [
        "model"
      ],
      "execution_count": 7,
      "outputs": [
        {
          "output_type": "execute_result",
          "data": {
            "text/plain": [
              "<tensorflow.python.keras.engine.sequential.Sequential at 0x7f65619e6a10>"
            ]
          },
          "metadata": {
            "tags": []
          },
          "execution_count": 7
        }
      ]
    },
    {
      "cell_type": "code",
      "metadata": {
        "id": "LdAXQAqybr9B"
      },
      "source": [
        "# inputs\n",
        "xs = np.array([-1.0,  0.0, 1.0, 2.0, 3.0, 4.0], dtype=float)\n",
        "\n",
        "# labels\n",
        "ys = np.array([-3.0, -1.0, 1.0, 3.0, 5.0, 7.0], dtype=float)"
      ],
      "execution_count": 8,
      "outputs": []
    },
    {
      "cell_type": "code",
      "metadata": {
        "id": "JZgnPZatArfr"
      },
      "source": [
        "model.compile(optimizer='sgd', loss='mean_squared_error')"
      ],
      "execution_count": 9,
      "outputs": []
    },
    {
      "cell_type": "code",
      "metadata": {
        "id": "xqmC-7yQBEvM",
        "colab": {
          "base_uri": "https://localhost:8080/"
        },
        "outputId": "0b49594a-6f44-4232-af5c-7eb5775ccb56"
      },
      "source": [
        "model.fit(xs, ys, epochs=500,verbose=0)\n",
        "\n",
        "print(model.predict([10.0]))"
      ],
      "execution_count": 10,
      "outputs": [
        {
          "output_type": "stream",
          "text": [
            "[[18.98444]]\n"
          ],
          "name": "stdout"
        }
      ]
    },
    {
      "cell_type": "markdown",
      "metadata": {
        "id": "MbZQjLCMieVa"
      },
      "source": [
        "Functional API\n",
        "\n",
        "Input() is used to instantiate a Keras tensor. A Keras tensor is a TensorFlow symbolic tensor object\n",
        "\n",
        "Dense Class: Dense implements the operation: output = activation(dot(input, kernel) + bias)\n",
        "\n",
        "Model class: Model groups layers into an object with training and inference features."
      ]
    },
    {
      "cell_type": "code",
      "metadata": {
        "id": "SqaqaQOUb6SS"
      },
      "source": [
        "input_layer=tf.keras.Input(shape=(1,))"
      ],
      "execution_count": 23,
      "outputs": []
    },
    {
      "cell_type": "code",
      "metadata": {
        "id": "aHWcexiijDTF"
      },
      "source": [
        "output_layer = tf.keras.layers.Dense(units=1)(input_layer)"
      ],
      "execution_count": 24,
      "outputs": []
    },
    {
      "cell_type": "code",
      "metadata": {
        "id": "2T2SOm-Ptqp-"
      },
      "source": [
        "func_model=tf.keras.Model(inputs=input_layer, outputs=output_layer)"
      ],
      "execution_count": 25,
      "outputs": []
    },
    {
      "cell_type": "code",
      "metadata": {
        "colab": {
          "base_uri": "https://localhost:8080/"
        },
        "id": "BL0k8pPDuPyJ",
        "outputId": "a3f310a3-6959-4e15-99df-541a79cd28c6"
      },
      "source": [
        "func_model"
      ],
      "execution_count": 26,
      "outputs": [
        {
          "output_type": "execute_result",
          "data": {
            "text/plain": [
              "<tensorflow.python.keras.engine.functional.Functional at 0x7f655ced7790>"
            ]
          },
          "metadata": {
            "tags": []
          },
          "execution_count": 26
        }
      ]
    },
    {
      "cell_type": "code",
      "metadata": {
        "id": "MrEHAMHQvG6j"
      },
      "source": [
        "func_model.compile(optimizer='sgd', loss='mean_squared_error')"
      ],
      "execution_count": 27,
      "outputs": []
    },
    {
      "cell_type": "code",
      "metadata": {
        "colab": {
          "base_uri": "https://localhost:8080/"
        },
        "id": "EYwuN6oqvQ7L",
        "outputId": "08df22e6-dde6-4a3f-a4ae-e9ea4087486f"
      },
      "source": [
        "func_model.fit(xs, ys, epochs=500,verbose=0)\n",
        "\n",
        "print(func_model.predict([10.0]))"
      ],
      "execution_count": 28,
      "outputs": [
        {
          "output_type": "stream",
          "text": [
            "[[18.985773]]\n"
          ],
          "name": "stdout"
        }
      ]
    },
    {
      "cell_type": "code",
      "metadata": {
        "colab": {
          "base_uri": "https://localhost:8080/",
          "height": 201
        },
        "id": "12-RUKZ5vusG",
        "outputId": "6100b9d4-9a70-41d1-fe37-830ebc4bf631"
      },
      "source": [
        "# Plot model graph\n",
        "plot_model(model, show_shapes=True, show_layer_names=True, to_file='model.png')"
      ],
      "execution_count": 21,
      "outputs": [
        {
          "output_type": "execute_result",
          "data": {
            "image/png": "[encoded data removed]",
            "text/plain": [
              "<IPython.core.display.Image object>"
            ]
          },
          "metadata": {
            "tags": []
          },
          "execution_count": 21
        }
      ]
    },
    {
      "cell_type": "code",
      "metadata": {
        "colab": {
          "base_uri": "https://localhost:8080/",
          "height": 201
        },
        "id": "pDGqi1HAvw3O",
        "outputId": "cae060b2-99ae-4cf0-c26f-13d67aabf0a2"
      },
      "source": [
        "# Plot model graph\n",
        "plot_model(func_model, show_shapes=True, show_layer_names=True, to_file='model.png')"
      ],
      "execution_count": 22,
      "outputs": [
        {
          "output_type": "execute_result",
          "data": {
            "image/png": "[encoded data removed]",
            "text/plain": [
              "<IPython.core.display.Image object>"
            ]
          },
          "metadata": {
            "tags": []
          },
          "execution_count": 22
        }
      ]
    }
  ]
}