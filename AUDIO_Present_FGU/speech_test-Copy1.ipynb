{
 "cells": [
  {
   "cell_type": "code",
   "execution_count": 1,
   "metadata": {},
   "outputs": [],
   "source": [
    "import speech_recognition as sr"
   ]
  },
  {
   "cell_type": "code",
   "execution_count": null,
   "metadata": {},
   "outputs": [],
   "source": []
  },
  {
   "cell_type": "code",
   "execution_count": 22,
   "metadata": {},
   "outputs": [
    {
     "name": "stdout",
     "output_type": "stream",
     "text": [
      "0 Microsoft ­µ®Ä¹ïÀ³ªí - Input\n",
      "1 ³Á§J­· (Realtek High Definition\n",
      "2 Microsoft ­µ®Ä¹ïÀ³ªí - Output\n",
      "3 ³â¥z (Realtek High Definition A\n",
      "4 Realtek Digital Output (Realtek\n"
     ]
    }
   ],
   "source": [
    "for index, name in enumerate(sr.Microphone.list_microphone_names()):\n",
    "    print(index, name)"
   ]
  },
  {
   "cell_type": "code",
   "execution_count": 7,
   "metadata": {},
   "outputs": [
    {
     "name": "stdout",
     "output_type": "stream",
     "text": [
      "Say something!\n"
     ]
    }
   ],
   "source": [
    "# obtain audio from the microphone\n",
    "r = sr.Recognizer()\n",
    "with sr.Microphone() as source:\n",
    "    print(\"Say something!\")\n",
    "    audio = r.listen(source)"
   ]
  },
  {
   "cell_type": "code",
   "execution_count": 8,
   "metadata": {},
   "outputs": [
    {
     "name": "stdout",
     "output_type": "stream",
     "text": [
      "Google Speech Recognition thinks you said:\n",
      " hands on machine learning with scikit-learn and tensorflow\n"
     ]
    }
   ],
   "source": [
    "print(\"Google Speech Recognition thinks you said:\\n\" , r.recognize_google(audio))"
   ]
  },
  {
   "cell_type": "code",
   "execution_count": null,
   "metadata": {},
   "outputs": [],
   "source": []
  },
  {
   "cell_type": "code",
   "execution_count": 13,
   "metadata": {},
   "outputs": [],
   "source": [
    "# obtain audio from the microphone for 10 seconds\n",
    "with sr.Microphone() as source:\n",
    "    audio_f = r.record(source,duration=10)"
   ]
  },
  {
   "cell_type": "code",
   "execution_count": 14,
   "metadata": {},
   "outputs": [],
   "source": [
    "with open(\"microphone-results.wav\", \"wb\") as f:\n",
    "    f.write(audio_f.get_wav_data())"
   ]
  },
  {
   "cell_type": "code",
   "execution_count": 15,
   "metadata": {},
   "outputs": [],
   "source": [
    "with sr.AudioFile(\"microphone-results.wav\") as sourcef:\n",
    "    audiof = r.record(sourcef) # read the entire audio file"
   ]
  },
  {
   "cell_type": "code",
   "execution_count": 16,
   "metadata": {},
   "outputs": [
    {
     "name": "stdout",
     "output_type": "stream",
     "text": [
      "Google Speech Recognition thinks you said:\n",
      " do you have any unfulfilled dreams deep in your heart I did when I was young I dreamed of studying abroad\n"
     ]
    }
   ],
   "source": [
    "print(\"Google Speech Recognition thinks you said:\\n\" , r.recognize_google(audiof))"
   ]
  },
  {
   "cell_type": "code",
   "execution_count": null,
   "metadata": {},
   "outputs": [],
   "source": []
  },
  {
   "cell_type": "markdown",
   "metadata": {},
   "source": [
    "## use http://www.szynalski.com/tone-generator/ to generate the tone\n",
    "## set microphone with the sample rate = 40khz to record the tone"
   ]
  },
  {
   "cell_type": "code",
   "execution_count": 17,
   "metadata": {},
   "outputs": [],
   "source": [
    "# obtain audio from the microphone for 7 seconds\n",
    "# here we use 40khz sample rate to record the sound\n",
    "r = sr.Recognizer()\n",
    "with sr.Microphone(sample_rate=40000) as source:\n",
    "    audio_f = r.record(source,duration=7)"
   ]
  },
  {
   "cell_type": "markdown",
   "metadata": {},
   "source": [
    "## save into wav file format "
   ]
  },
  {
   "cell_type": "code",
   "execution_count": 18,
   "metadata": {},
   "outputs": [],
   "source": [
    "with open(\"568_mic_in.wav\", \"wb\") as f:\n",
    "    f.write(audio_f.get_wav_data())"
   ]
  },
  {
   "cell_type": "markdown",
   "metadata": {},
   "source": [
    "## extract the audio data part into out.data"
   ]
  },
  {
   "cell_type": "code",
   "execution_count": 23,
   "metadata": {},
   "outputs": [
    {
     "name": "stdout",
     "output_type": "stream",
     "text": [
      "This is to extract the audio data of the WAV file of 568_mic_in.wav... by Su-Yung Tsai\n",
      "0 1 2 3 ---52 49 46 46 \n",
      "4 5 6 7 ---24 88 08 00 RIFF chunk size=559140\n",
      "8 9 10 11 ---57 41 56 45 \n",
      "12 13 14 15 ---66 6d 74 20 \n",
      "16 17 18 19 ---10 00 00 00 \n",
      "20 21 22 23 ---01 00 01 00 PCM=1, Num of channel=1\n",
      "24 25 26 27 ---40 9c 00 00 sampling rate fs=40000, Sampling time Ts= 0.0000250\n",
      "28 29 30 31 ---80 38 01 00 byte rate=80000\n",
      "32 33 34 35 ---02 00 10 00 bits per sample=16\n",
      "36 37 38 39 ---64 61 74 61 \n",
      "40 41 42 43 ---00 88 08 00 File size=559104\n",
      "wav file current positon =44\n",
      "Starting reading data now ... exciting !!\n",
      "\n",
      "\n",
      "total readin 279552 data !! each data is two bytes !! \n",
      "cause read in tt= 0 less than two bytes!!\n",
      "total record time is 279552 x  0.0000250    6.989 second\n"
     ]
    }
   ],
   "source": [
    "!bmp17_win.exe   568_mic_in.wav"
   ]
  },
  {
   "cell_type": "code",
   "execution_count": 20,
   "metadata": {},
   "outputs": [],
   "source": [
    "# freq_analyz.py  is  from  pr1.py  \n",
    "# use SCIPY module to get the frequency\n",
    "import freq_analyz"
   ]
  },
  {
   "cell_type": "code",
   "execution_count": 24,
   "metadata": {},
   "outputs": [
    {
     "name": "stdout",
     "output_type": "stream",
     "text": [
      "The frequency is : 568.0\n"
     ]
    }
   ],
   "source": [
    "freq_analyz.get_freq('out.data',40000)"
   ]
  },
  {
   "cell_type": "code",
   "execution_count": null,
   "metadata": {},
   "outputs": [],
   "source": []
  }
 ],
 "metadata": {
  "kernelspec": {
   "display_name": "Python 3",
   "language": "python",
   "name": "python3"
  },
  "language_info": {
   "codemirror_mode": {
    "name": "ipython",
    "version": 3
   },
   "file_extension": ".py",
   "mimetype": "text/x-python",
   "name": "python",
   "nbconvert_exporter": "python",
   "pygments_lexer": "ipython3",
   "version": "3.6.5"
  }
 },
 "nbformat": 4,
 "nbformat_minor": 2
}
