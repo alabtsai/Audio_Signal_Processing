{
 "cells": [
  {
   "cell_type": "code",
   "execution_count": 1,
   "metadata": {},
   "outputs": [],
   "source": [
    "import speech_recognition as sr"
   ]
  },
  {
   "cell_type": "markdown",
   "metadata": {},
   "source": [
    "## test  microphone is correctly detected"
   ]
  },
  {
   "cell_type": "code",
   "execution_count": 3,
   "metadata": {},
   "outputs": [
    {
     "name": "stdout",
     "output_type": "stream",
     "text": [
      "0 HDA Intel HDMI: 0 (hw:0,3)\n",
      "1 HDA Intel HDMI: 1 (hw:0,7)\n",
      "2 HDA Intel HDMI: 2 (hw:0,8)\n",
      "3 HDA Intel HDMI: 3 (hw:0,9)\n",
      "4 HDA Intel HDMI: 4 (hw:0,10)\n",
      "5 HDA Intel PCH: ALC269VC Analog (hw:1,0)\n",
      "6 hdmi\n",
      "7 pulse\n",
      "8 default\n"
     ]
    }
   ],
   "source": [
    "for index, name in enumerate(sr.Microphone.list_microphone_names()):\n",
    "    print(index, name)"
   ]
  },
  {
   "cell_type": "code",
   "execution_count": 13,
   "metadata": {},
   "outputs": [],
   "source": [
    "# obtain audio from the microphone for 7 seconds\n",
    "# here we use 40khz sample rate to record the sound\n",
    "r = sr.Recognizer()\n",
    "with sr.Microphone(sample_rate=40000) as source:\n",
    "    audio_f = r.record(source,duration=7)"
   ]
  },
  {
   "cell_type": "code",
   "execution_count": 14,
   "metadata": {},
   "outputs": [],
   "source": [
    "with open(\"750hz_mic_in.wav\", \"wb\") as f:\n",
    "    f.write(audio_f.get_wav_data())"
   ]
  },
  {
   "cell_type": "markdown",
   "metadata": {},
   "source": [
    "## then run   ./bmp17.exe    750hz_mic_in.wav\n",
    "## to get the sampled audio data:  out.data   \n",
    "## this part will be done in Python soon !"
   ]
  },
  {
   "cell_type": "code",
   "execution_count": 4,
   "metadata": {},
   "outputs": [],
   "source": [
    "# freq_analyz.py  is  from  pr1.py  \n",
    "# use SCIPY module to get the frequency\n",
    "import freq_analyz"
   ]
  },
  {
   "cell_type": "code",
   "execution_count": 6,
   "metadata": {},
   "outputs": [
    {
     "name": "stdout",
     "output_type": "stream",
     "text": [
      "The frequency is : 750.0\n"
     ]
    }
   ],
   "source": [
    "freq_analyz.get_freq('out.data',40000)"
   ]
  },
  {
   "cell_type": "code",
   "execution_count": null,
   "metadata": {},
   "outputs": [],
   "source": []
  }
 ],
 "metadata": {
  "kernelspec": {
   "display_name": "Python 3",
   "language": "python",
   "name": "python3"
  },
  "language_info": {
   "codemirror_mode": {
    "name": "ipython",
    "version": 3
   },
   "file_extension": ".py",
   "mimetype": "text/x-python",
   "name": "python",
   "nbconvert_exporter": "python",
   "pygments_lexer": "ipython3",
   "version": "3.6.6"
  }
 },
 "nbformat": 4,
 "nbformat_minor": 2
}
