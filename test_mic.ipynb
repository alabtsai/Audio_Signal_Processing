{
 "cells": [
  {
   "cell_type": "code",
   "execution_count": 1,
   "metadata": {},
   "outputs": [],
   "source": [
    "import speech_recognition as sr"
   ]
  },
  {
   "cell_type": "code",
   "execution_count": 2,
   "metadata": {},
   "outputs": [
    {
     "name": "stdout",
     "output_type": "stream",
     "text": [
      "0 HDA Intel PCH: ALC1220 Analog (hw:0,0)\n",
      "1 HDA Intel PCH: ALC1220 Digital (hw:0,1)\n",
      "2 HDA Intel PCH: ALC1220 Alt Analog (hw:0,2)\n",
      "3 HDA NVidia: HDMI 0 (hw:1,3)\n",
      "4 HDA NVidia: HDMI 1 (hw:1,7)\n",
      "5 HDA NVidia: HDMI 2 (hw:1,8)\n",
      "6 sysdefault\n",
      "7 front\n",
      "8 surround21\n",
      "9 surround40\n",
      "10 surround41\n",
      "11 surround50\n",
      "12 surround51\n",
      "13 surround71\n",
      "14 iec958\n",
      "15 spdif\n",
      "16 pulse\n",
      "17 dmix\n",
      "18 default\n"
     ]
    }
   ],
   "source": [
    "for index, name in enumerate(sr.Microphone.list_microphone_names()):\n",
    "    print(index, name)"
   ]
  },
  {
   "cell_type": "code",
   "execution_count": 3,
   "metadata": {},
   "outputs": [
    {
     "data": {
      "text/plain": [
       "['HDA Intel PCH: ALC1220 Analog (hw:0,0)',\n",
       " 'HDA Intel PCH: ALC1220 Digital (hw:0,1)',\n",
       " 'HDA Intel PCH: ALC1220 Alt Analog (hw:0,2)',\n",
       " 'HDA NVidia: HDMI 0 (hw:1,3)',\n",
       " 'HDA NVidia: HDMI 1 (hw:1,7)',\n",
       " 'HDA NVidia: HDMI 2 (hw:1,8)',\n",
       " 'sysdefault',\n",
       " 'front',\n",
       " 'surround21',\n",
       " 'surround40',\n",
       " 'surround41',\n",
       " 'surround50',\n",
       " 'surround51',\n",
       " 'surround71',\n",
       " 'iec958',\n",
       " 'spdif',\n",
       " 'pulse',\n",
       " 'dmix',\n",
       " 'default']"
      ]
     },
     "execution_count": 3,
     "metadata": {},
     "output_type": "execute_result"
    }
   ],
   "source": [
    "sr.Microphone.list_microphone_names()"
   ]
  },
  {
   "cell_type": "code",
   "execution_count": 22,
   "metadata": {},
   "outputs": [
    {
     "name": "stdout",
     "output_type": "stream",
     "text": [
      "Say something!\n"
     ]
    }
   ],
   "source": [
    "# obtain audio from the microphone\n",
    "r = sr.Recognizer()\n",
    "with sr.Microphone() as source:\n",
    "    print(\"Say something!\")\n",
    "    audio = r.listen(source)"
   ]
  },
  {
   "cell_type": "code",
   "execution_count": 23,
   "metadata": {},
   "outputs": [
    {
     "name": "stdout",
     "output_type": "stream",
     "text": [
      "Google Speech Recognition thinks you said:\n",
      " watermelon\n"
     ]
    }
   ],
   "source": [
    "print(\"Google Speech Recognition thinks you said:\\n\" , r.recognize_google(audio))"
   ]
  },
  {
   "cell_type": "code",
   "execution_count": 24,
   "metadata": {},
   "outputs": [],
   "source": [
    "# obtain audio from the microphone for 15 seconds\n",
    "r = sr.Recognizer()\n",
    "with sr.Microphone() as source:\n",
    "    audio_f = r.record(source,duration=15)"
   ]
  },
  {
   "cell_type": "code",
   "execution_count": 25,
   "metadata": {},
   "outputs": [],
   "source": [
    "with open(\"microphone-results.wav\", \"wb\") as f:\n",
    "    f.write(audio_f.get_wav_data())"
   ]
  },
  {
   "cell_type": "code",
   "execution_count": 26,
   "metadata": {},
   "outputs": [],
   "source": [
    "with sr.AudioFile(\"microphone-results.wav\") as sourcef:\n",
    "    audiof = r.record(sourcef) # read the entire audio file"
   ]
  },
  {
   "cell_type": "code",
   "execution_count": 27,
   "metadata": {},
   "outputs": [
    {
     "name": "stdout",
     "output_type": "stream",
     "text": [
      "Google Speech Recognition thinks you said:\n",
      " you are my sunshine my only sunshine you make me happy when skies are gray you'll never understand how much I love you\n"
     ]
    }
   ],
   "source": [
    "print(\"Google Speech Recognition thinks you said:\\n\" , r.recognize_google(audiof))"
   ]
  },
  {
   "cell_type": "code",
   "execution_count": 28,
   "metadata": {},
   "outputs": [
    {
     "name": "stdout",
     "output_type": "stream",
     "text": [
      "Google Speech Recognition thinks you said:\n",
      " you are my sunshine my only sunshine you make me happy when skies are gray you'll never understand how much I love you\n"
     ]
    }
   ],
   "source": [
    "print(\"Google Speech Recognition thinks you said:\\n\" , r.recognize_google(audio_f))"
   ]
  },
  {
   "cell_type": "code",
   "execution_count": 31,
   "metadata": {},
   "outputs": [
    {
     "name": "stdout",
     "output_type": "stream",
     "text": [
      "Say something!\n"
     ]
    }
   ],
   "source": [
    "# obtain audio from the microphone\n",
    "r = sr.Recognizer()\n",
    "with sr.Microphone(18) as source:\n",
    "    print(\"Say something!\")\n",
    "    audio = r.listen(source)"
   ]
  },
  {
   "cell_type": "code",
   "execution_count": 32,
   "metadata": {},
   "outputs": [
    {
     "name": "stdout",
     "output_type": "stream",
     "text": [
      "Google Speech Recognition thinks you said:\n",
      " this is a pen\n"
     ]
    }
   ],
   "source": [
    "print(\"Google Speech Recognition thinks you said:\\n\" , r.recognize_google(audio))"
   ]
  },
  {
   "cell_type": "code",
   "execution_count": null,
   "metadata": {},
   "outputs": [],
   "source": []
  }
 ],
 "metadata": {
  "kernelspec": {
   "display_name": "Python 3",
   "language": "python",
   "name": "python3"
  },
  "language_info": {
   "codemirror_mode": {
    "name": "ipython",
    "version": 3
   },
   "file_extension": ".py",
   "mimetype": "text/x-python",
   "name": "python",
   "nbconvert_exporter": "python",
   "pygments_lexer": "ipython3",
   "version": "3.6.6"
  }
 },
 "nbformat": 4,
 "nbformat_minor": 2
}
