{
 "cells": [
  {
   "cell_type": "code",
   "execution_count": 1,
   "metadata": {},
   "outputs": [],
   "source": [
    "import speech_recognition as sr\n",
    "import numpy as np"
   ]
  },
  {
   "cell_type": "code",
   "execution_count": 88,
   "metadata": {},
   "outputs": [],
   "source": [
    "import matplotlib.pyplot as plt"
   ]
  },
  {
   "cell_type": "code",
   "execution_count": 192,
   "metadata": {},
   "outputs": [
    {
     "data": {
      "text/plain": [
       "'/home/howard/ml_sudio'"
      ]
     },
     "execution_count": 192,
     "metadata": {},
     "output_type": "execute_result"
    }
   ],
   "source": [
    "%pwd"
   ]
  },
  {
   "cell_type": "code",
   "execution_count": 3,
   "metadata": {},
   "outputs": [
    {
     "name": "stdout",
     "output_type": "stream",
     "text": [
      "0 HDA Intel PCH: ALC1220 Analog (hw:0,0)\n",
      "1 HDA Intel PCH: ALC1220 Digital (hw:0,1)\n",
      "2 HDA Intel PCH: ALC1220 Alt Analog (hw:0,2)\n",
      "3 HDA NVidia: HDMI 0 (hw:1,3)\n",
      "4 HDA NVidia: HDMI 1 (hw:1,7)\n",
      "5 HDA NVidia: HDMI 2 (hw:1,8)\n",
      "6 sysdefault\n",
      "7 iec958\n",
      "8 spdif\n",
      "9 pulse\n",
      "10 default\n"
     ]
    }
   ],
   "source": [
    "for index, name in enumerate(sr.Microphone.list_microphone_names()):\n",
    "    print(index, name)"
   ]
  },
  {
   "cell_type": "code",
   "execution_count": 107,
   "metadata": {},
   "outputs": [
    {
     "name": "stdout",
     "output_type": "stream",
     "text": [
      "Say something!\n"
     ]
    }
   ],
   "source": [
    "# obtain audio from the microphone\n",
    "r = sr.Recognizer()\n",
    "with sr.Microphone() as source:\n",
    "    print(\"Say something!\")\n",
    "    audio = r.listen(source)"
   ]
  },
  {
   "cell_type": "code",
   "execution_count": 108,
   "metadata": {},
   "outputs": [
    {
     "name": "stdout",
     "output_type": "stream",
     "text": [
      "Google Speech Recognition thinks you said:\n",
      " okay now the final only Python program for spectrum is finished\n"
     ]
    }
   ],
   "source": [
    "print(\"Google Speech Recognition thinks you said:\\n\" , r.recognize_google(audio))"
   ]
  },
  {
   "cell_type": "code",
   "execution_count": 162,
   "metadata": {},
   "outputs": [],
   "source": [
    "# obtain audio from the microphone for 5 seconds\n",
    "# fsam= 40khz\n",
    "r = sr.Recognizer()\n",
    "fsam=40000\n",
    "with sr.Microphone(sample_rate=fsam) as source:\n",
    "    audio_f = r.record(source,duration=5)"
   ]
  },
  {
   "cell_type": "code",
   "execution_count": 163,
   "metadata": {},
   "outputs": [],
   "source": [
    "byte_data=audio_f.get_wav_data()"
   ]
  },
  {
   "cell_type": "code",
   "execution_count": 164,
   "metadata": {},
   "outputs": [],
   "source": [
    "data_list=list(byte_data)"
   ]
  },
  {
   "cell_type": "markdown",
   "metadata": {},
   "source": [
    "## len(byte_data) include the wav title..."
   ]
  },
  {
   "cell_type": "code",
   "execution_count": 165,
   "metadata": {},
   "outputs": [
    {
     "data": {
      "text/plain": [
       "399404"
      ]
     },
     "execution_count": 165,
     "metadata": {},
     "output_type": "execute_result"
    }
   ],
   "source": [
    "len(byte_data)"
   ]
  },
  {
   "cell_type": "code",
   "execution_count": 166,
   "metadata": {},
   "outputs": [
    {
     "data": {
      "text/plain": [
       "399360"
      ]
     },
     "execution_count": 166,
     "metadata": {},
     "output_type": "execute_result"
    }
   ],
   "source": [
    "# actual audio byte number\n",
    "len(byte_data)-44"
   ]
  },
  {
   "cell_type": "code",
   "execution_count": 167,
   "metadata": {},
   "outputs": [
    {
     "data": {
      "text/plain": [
       "199680.0"
      ]
     },
     "execution_count": 167,
     "metadata": {},
     "output_type": "execute_result"
    }
   ],
   "source": [
    "# actual audio sample\n",
    "( len(byte_data)-44 )/2"
   ]
  },
  {
   "cell_type": "markdown",
   "metadata": {},
   "source": [
    "## the audio data starts from 44"
   ]
  },
  {
   "cell_type": "code",
   "execution_count": 168,
   "metadata": {},
   "outputs": [
    {
     "data": {
      "text/plain": [
       "b'\\x00\\x00\\x01\\x00\\xff\\xff\\xff\\xff\\x08\\x00\\xee\\xff \\x00\\xd4\\xff'"
      ]
     },
     "execution_count": 168,
     "metadata": {},
     "output_type": "execute_result"
    }
   ],
   "source": [
    "byte_data[44:60]"
   ]
  },
  {
   "cell_type": "code",
   "execution_count": 169,
   "metadata": {},
   "outputs": [
    {
     "data": {
      "text/plain": [
       "0"
      ]
     },
     "execution_count": 169,
     "metadata": {},
     "output_type": "execute_result"
    }
   ],
   "source": [
    "byte_data[44]"
   ]
  },
  {
   "cell_type": "code",
   "execution_count": 171,
   "metadata": {},
   "outputs": [
    {
     "name": "stdout",
     "output_type": "stream",
     "text": [
      "<class 'bytes'>\n",
      "<class 'int'>\n",
      "0\n"
     ]
    }
   ],
   "source": [
    "print(type(byte_data))\n",
    "print(type(byte_data[44]))\n",
    "print(byte_data[44])"
   ]
  },
  {
   "cell_type": "code",
   "execution_count": 172,
   "metadata": {},
   "outputs": [
    {
     "name": "stdout",
     "output_type": "stream",
     "text": [
      "<class 'list'>\n",
      "<class 'int'>\n",
      "0\n"
     ]
    }
   ],
   "source": [
    "print(type(data_list))\n",
    "print(type(data_list[44]))\n",
    "print(data_list[44])"
   ]
  },
  {
   "cell_type": "code",
   "execution_count": 173,
   "metadata": {},
   "outputs": [],
   "source": [
    "audio_ary=np.array(data_list)"
   ]
  },
  {
   "cell_type": "code",
   "execution_count": 174,
   "metadata": {},
   "outputs": [
    {
     "name": "stdout",
     "output_type": "stream",
     "text": [
      "<class 'numpy.ndarray'>\n",
      "<class 'numpy.int64'>\n",
      "0\n"
     ]
    }
   ],
   "source": [
    "print(type(audio_ary))\n",
    "print(type(audio_ary[44]))\n",
    "print(audio_ary[44])"
   ]
  },
  {
   "cell_type": "code",
   "execution_count": 175,
   "metadata": {},
   "outputs": [
    {
     "name": "stdout",
     "output_type": "stream",
     "text": [
      "199680\n"
     ]
    }
   ],
   "source": [
    "total_data_byte_number=audio_ary[40]+audio_ary[41]*256+audio_ary[42]*65536+audio_ary[43]*1024*1024*16 \n",
    "total_sample_number=total_data_byte_number//2\n",
    "print(total_sample_number)"
   ]
  },
  {
   "cell_type": "code",
   "execution_count": 176,
   "metadata": {},
   "outputs": [],
   "source": [
    "result=np.empty( total_sample_number ,  np.int16)\n",
    "idx=0\n",
    "for i in range(0, 2*total_sample_number, 2):\n",
    "    sample=audio_ary[44+i]+audio_ary[44+i+1]*256\n",
    "    result[idx]=np.int16(sample)\n",
    "    idx=idx+1"
   ]
  },
  {
   "cell_type": "markdown",
   "metadata": {},
   "source": [
    "## Let's plot the recorded waveform"
   ]
  },
  {
   "cell_type": "code",
   "execution_count": 177,
   "metadata": {},
   "outputs": [
    {
     "name": "stdout",
     "output_type": "stream",
     "text": [
      "199680\n",
      "4.991975\n"
     ]
    }
   ],
   "source": [
    "T=1/fsam\n",
    "stop=(total_sample_number-1)*T\n",
    "t=np.linspace(0,stop,total_sample_number)\n",
    "print(len(t))\n",
    "print(t[len(t)-1])"
   ]
  },
  {
   "cell_type": "code",
   "execution_count": 178,
   "metadata": {},
   "outputs": [
    {
     "data": {
      "text/plain": [
       "[<matplotlib.lines.Line2D at 0x7fd584c91ac8>]"
      ]
     },
     "execution_count": 178,
     "metadata": {},
     "output_type": "execute_result"
    },
    {
     "data": {
      "image/png": "[encoded data removed]",
      "text/plain": [
       "<Figure size 432x288 with 1 Axes>"
      ]
     },
     "metadata": {
      "needs_background": "light"
     },
     "output_type": "display_data"
    }
   ],
   "source": [
    "plt.xlim(0,0.01)\n",
    "plt.plot(t,result)"
   ]
  },
  {
   "cell_type": "markdown",
   "metadata": {},
   "source": [
    "## Use last NSample points ,,, it is stable"
   ]
  },
  {
   "cell_type": "code",
   "execution_count": 179,
   "metadata": {},
   "outputs": [],
   "source": [
    "NSample=20000\n",
    "r  =(result.shape[0])-NSample\n",
    "rr =result.shape[0]"
   ]
  },
  {
   "cell_type": "code",
   "execution_count": 180,
   "metadata": {},
   "outputs": [
    {
     "name": "stdout",
     "output_type": "stream",
     "text": [
      "179680\n",
      "199680\n"
     ]
    }
   ],
   "source": [
    "print(r)\n",
    "print(rr)"
   ]
  },
  {
   "cell_type": "code",
   "execution_count": 181,
   "metadata": {},
   "outputs": [],
   "source": [
    "yy=result[r:rr]\n",
    "\n",
    "totalN=80000\n",
    "yyy=np.pad(yy,(0,totalN-NSample),'constant')"
   ]
  },
  {
   "cell_type": "code",
   "execution_count": 182,
   "metadata": {},
   "outputs": [
    {
     "data": {
      "text/plain": [
       "80000"
      ]
     },
     "execution_count": 182,
     "metadata": {},
     "output_type": "execute_result"
    }
   ],
   "source": [
    "len(yyy)"
   ]
  },
  {
   "cell_type": "code",
   "execution_count": 183,
   "metadata": {},
   "outputs": [],
   "source": [
    "T=1/fsam\n",
    "stop=(totalN-1)*T\n",
    "t=np.linspace(0,stop,totalN)"
   ]
  },
  {
   "cell_type": "code",
   "execution_count": null,
   "metadata": {},
   "outputs": [],
   "source": []
  },
  {
   "cell_type": "code",
   "execution_count": 184,
   "metadata": {},
   "outputs": [
    {
     "data": {
      "text/plain": [
       "[<matplotlib.lines.Line2D at 0x7fd584c803c8>]"
      ]
     },
     "execution_count": 184,
     "metadata": {},
     "output_type": "execute_result"
    },
    {
     "data": {
      "image/png": "[encoded data removed]",
      "text/plain": [
       "<Figure size 432x288 with 1 Axes>"
      ]
     },
     "metadata": {
      "needs_background": "light"
     },
     "output_type": "display_data"
    }
   ],
   "source": [
    "plt.xlim(0,0.02)\n",
    "plt.plot(t,yyy)"
   ]
  },
  {
   "cell_type": "code",
   "execution_count": 185,
   "metadata": {},
   "outputs": [],
   "source": [
    "from scipy import fftpack\n",
    "faX=fftpack.fft(yyy)\n",
    "Xc=faX*T\n",
    "Xcabs=np.abs(Xc)"
   ]
  },
  {
   "cell_type": "code",
   "execution_count": 186,
   "metadata": {},
   "outputs": [
    {
     "data": {
      "text/plain": [
       "510.76746494827677"
      ]
     },
     "execution_count": 186,
     "metadata": {},
     "output_type": "execute_result"
    }
   ],
   "source": [
    "freqs=fftpack.fftfreq(totalN,T)\n",
    "np.max(Xcabs)"
   ]
  },
  {
   "cell_type": "code",
   "execution_count": 187,
   "metadata": {},
   "outputs": [
    {
     "name": "stdout",
     "output_type": "stream",
     "text": [
      "The frequency is : 950.0\n"
     ]
    }
   ],
   "source": [
    "peak_result=np.where(Xcabs==np.max(Xcabs))\n",
    "peak_index=peak_result[0][0]\n",
    "print('The frequency is :' ,freqs[peak_index])"
   ]
  },
  {
   "cell_type": "code",
   "execution_count": 191,
   "metadata": {},
   "outputs": [
    {
     "data": {
      "text/plain": [
       "[<matplotlib.lines.Line2D at 0x7fd584b71a90>]"
      ]
     },
     "execution_count": 191,
     "metadata": {},
     "output_type": "execute_result"
    },
    {
     "data": {
      "image/png": "[encoded data removed]",
      "text/plain": [
       "<Figure size 432x288 with 1 Axes>"
      ]
     },
     "metadata": {
      "needs_background": "light"
     },
     "output_type": "display_data"
    }
   ],
   "source": [
    "plt.plot(freqs,Xcabs)"
   ]
  },
  {
   "cell_type": "code",
   "execution_count": null,
   "metadata": {},
   "outputs": [],
   "source": []
  },
  {
   "cell_type": "code",
   "execution_count": null,
   "metadata": {},
   "outputs": [],
   "source": []
  },
  {
   "cell_type": "code",
   "execution_count": 188,
   "metadata": {},
   "outputs": [],
   "source": [
    "with open(\"microphone-results.wav\", \"wb\") as f:\n",
    "    f.write(audio_f.get_wav_data())"
   ]
  },
  {
   "cell_type": "markdown",
   "metadata": {},
   "source": [
    "## use bmp17.exe   to extract the audio data part"
   ]
  },
  {
   "cell_type": "code",
   "execution_count": 189,
   "metadata": {
    "scrolled": true
   },
   "outputs": [
    {
     "name": "stdout",
     "output_type": "stream",
     "text": [
      "This program is to extract the audio data of the WAV file of microphone-results.wav\n",
      "and generate the sampled audio values into a file out.data\n",
      "  0   1   2   3 --- 52  49  46  46  \n",
      "  4   5   6   7 --- 24  18  06  00  RIFF chunk size=399396\n",
      "  8   9  10  11 --- 57  41  56  45  \n",
      " 12  13  14  15 --- 66  6d  74  20  \n",
      " 16  17  18  19 --- 10  00  00  00  \n",
      " 20  21  22  23 --- 01  00  01  00  PCM=1, Num of channel=1\n",
      " 24  25  26  27 --- 40  9c  00  00  sampling rate fs=40000, Sampling time Ts= 0.0000250\n",
      " 28  29  30  31 --- 80  38  01  00  byte rate=80000\n",
      " 32  33  34  35 --- 02  00  10  00  bits per sample=16\n",
      " 36  37  38  39 --- 64  61  74  61  \n",
      " 40  41  42  43 --- 00  18  06  00  audio number of byte=399360\n",
      "wav file current positon =44\n",
      "Starting reading data now at this position...!\n",
      "\n",
      "\n",
      "00  00     0     0 --->     0\n",
      "01  00     1     0 --->     1\n",
      "ff  ff   255   255 --->    -1\n",
      "ff  ff   255   255 --->    -1\n",
      "08  00     8     0 --->     8\n",
      "ee  ff   238   255 --->   -18\n",
      "20  00    32     0 --->    32\n",
      "d4  ff   212   255 --->   -44\n",
      "32  00    50     0 --->    50\n",
      "dc  ff   220   255 --->   -36\n",
      "d6  fb   214   251 ---> -1066\n",
      "db  f9   219   249 ---> -1573\n",
      "a4  f9   164   249 ---> -1628\n",
      "c9  f8   201   248 ---> -1847\n",
      "7f  f8   127   248 ---> -1921\n",
      "20  f8    32   248 ---> -2016\n",
      "total readin 199680 data !! each data is two bytes !! \n",
      "cause read in tt= 0 less than two bytes!!\n",
      "total record time is 199680 x  0.0000250    4.992 second\n"
     ]
    }
   ],
   "source": [
    "!./bmp17.exe  microphone-results.wav"
   ]
  },
  {
   "cell_type": "markdown",
   "metadata": {},
   "source": [
    "## compare with the C extraction: "
   ]
  },
  {
   "cell_type": "code",
   "execution_count": 190,
   "metadata": {},
   "outputs": [
    {
     "data": {
      "text/plain": [
       "array([    0,     1,    -1,    -1,     8,   -18,    32,   -44,    50,\n",
       "         -36, -1066, -1573, -1628, -1847, -1921, -2016, -2056, -2019,\n",
       "       -1903, -1787], dtype=int16)"
      ]
     },
     "execution_count": 190,
     "metadata": {},
     "output_type": "execute_result"
    }
   ],
   "source": [
    "result[:20]"
   ]
  },
  {
   "cell_type": "code",
   "execution_count": null,
   "metadata": {},
   "outputs": [],
   "source": []
  },
  {
   "cell_type": "code",
   "execution_count": null,
   "metadata": {},
   "outputs": [],
   "source": []
  }
 ],
 "metadata": {
  "kernelspec": {
   "display_name": "Python 3",
   "language": "python",
   "name": "python3"
  },
  "language_info": {
   "codemirror_mode": {
    "name": "ipython",
    "version": 3
   },
   "file_extension": ".py",
   "mimetype": "text/x-python",
   "name": "python",
   "nbconvert_exporter": "python",
   "pygments_lexer": "ipython3",
   "version": "3.6.6"
  }
 },
 "nbformat": 4,
 "nbformat_minor": 2
}
