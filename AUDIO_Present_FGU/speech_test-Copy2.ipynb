{
 "cells": [
  {
   "cell_type": "code",
   "execution_count": 2,
   "metadata": {},
   "outputs": [],
   "source": [
    "import speech_recognition as sr"
   ]
  },
  {
   "cell_type": "code",
   "execution_count": 31,
   "metadata": {},
   "outputs": [
    {
     "data": {
      "text/plain": [
       "'/home/howard/My_Git/Audio_Signal_Processing/AUDIO_Present_FGU'"
      ]
     },
     "execution_count": 31,
     "metadata": {},
     "output_type": "execute_result"
    }
   ],
   "source": [
    "%pwd"
   ]
  },
  {
   "cell_type": "code",
   "execution_count": 22,
   "metadata": {},
   "outputs": [
    {
     "name": "stdout",
     "output_type": "stream",
     "text": [
      "0 Microsoft ­µ®Ä¹ïÀ³ªí - Input\n",
      "1 ³Á§J­· (Realtek High Definition\n",
      "2 Microsoft ­µ®Ä¹ïÀ³ªí - Output\n",
      "3 ³â¥z (Realtek High Definition A\n",
      "4 Realtek Digital Output (Realtek\n"
     ]
    }
   ],
   "source": [
    "for index, name in enumerate(sr.Microphone.list_microphone_names()):\n",
    "    print(index, name)"
   ]
  },
  {
   "cell_type": "code",
   "execution_count": 7,
   "metadata": {},
   "outputs": [
    {
     "name": "stdout",
     "output_type": "stream",
     "text": [
      "Say something!\n"
     ]
    }
   ],
   "source": [
    "# obtain audio from the microphone\n",
    "r = sr.Recognizer()\n",
    "with sr.Microphone() as source:\n",
    "    print(\"Say something!\")\n",
    "    audio = r.listen(source)"
   ]
  },
  {
   "cell_type": "code",
   "execution_count": 8,
   "metadata": {},
   "outputs": [
    {
     "name": "stdout",
     "output_type": "stream",
     "text": [
      "Google Speech Recognition thinks you said:\n",
      " hands on machine learning with scikit-learn and tensorflow\n"
     ]
    }
   ],
   "source": [
    "print(\"Google Speech Recognition thinks you said:\\n\" , r.recognize_google(audio))"
   ]
  },
  {
   "cell_type": "code",
   "execution_count": 3,
   "metadata": {},
   "outputs": [],
   "source": [
    "r = sr.Recognizer()"
   ]
  },
  {
   "cell_type": "code",
   "execution_count": 13,
   "metadata": {},
   "outputs": [],
   "source": [
    "# obtain audio from the microphone for 5 seconds\n",
    "with sr.Microphone(sample_rate=40000) as source:\n",
    "    audio_f = r.record(source,duration=5)"
   ]
  },
  {
   "cell_type": "code",
   "execution_count": 18,
   "metadata": {},
   "outputs": [],
   "source": [
    "byte_data_1=audio_f.get_wav_data()"
   ]
  },
  {
   "cell_type": "code",
   "execution_count": 19,
   "metadata": {},
   "outputs": [
    {
     "data": {
      "text/plain": [
       "399404"
      ]
     },
     "execution_count": 19,
     "metadata": {},
     "output_type": "execute_result"
    }
   ],
   "source": [
    "len(byte_data_1)"
   ]
  },
  {
   "cell_type": "code",
   "execution_count": 25,
   "metadata": {},
   "outputs": [
    {
     "name": "stdout",
     "output_type": "stream",
     "text": [
      "<class 'bytes'>\n"
     ]
    }
   ],
   "source": [
    "print(type(byte_data_1))"
   ]
  },
  {
   "cell_type": "code",
   "execution_count": 26,
   "metadata": {},
   "outputs": [],
   "source": [
    "data_list=list(byte_data_1)"
   ]
  },
  {
   "cell_type": "code",
   "execution_count": 27,
   "metadata": {},
   "outputs": [
    {
     "data": {
      "text/plain": [
       "399404"
      ]
     },
     "execution_count": 27,
     "metadata": {},
     "output_type": "execute_result"
    }
   ],
   "source": [
    "len(data_list)"
   ]
  },
  {
   "cell_type": "code",
   "execution_count": 30,
   "metadata": {},
   "outputs": [
    {
     "data": {
      "text/plain": [
       "[2, 0, 16, 0]"
      ]
     },
     "execution_count": 30,
     "metadata": {},
     "output_type": "execute_result"
    }
   ],
   "source": [
    "data_list[32:36]"
   ]
  },
  {
   "cell_type": "markdown",
   "metadata": {},
   "source": [
    "## audio_f  is  the AudioData\n",
    "## use get_wav_data() and   f.write to write into wav     "
   ]
  },
  {
   "cell_type": "code",
   "execution_count": 14,
   "metadata": {},
   "outputs": [],
   "source": [
    "with open(\"microphone-results.wav\", \"wb\") as f:\n",
    "    f.write(audio_f.get_wav_data())"
   ]
  },
  {
   "cell_type": "markdown",
   "metadata": {},
   "source": [
    "## use bmp17.exe   to extract the audio data part"
   ]
  },
  {
   "cell_type": "code",
   "execution_count": 24,
   "metadata": {},
   "outputs": [
    {
     "name": "stdout",
     "output_type": "stream",
     "text": [
      "This program is to extract the audio data of the WAV file of microphone-results.wav\n",
      "and generate the sampled audio values into a file out.data\n",
      "  0   1   2   3 --- 52  49  46  46  \n",
      "  4   5   6   7 --- 24  18  06  00  RIFF chunk size=399396\n",
      "  8   9  10  11 --- 57  41  56  45  \n",
      " 12  13  14  15 --- 66  6d  74  20  \n",
      " 16  17  18  19 --- 10  00  00  00  \n",
      " 20  21  22  23 --- 01  00  01  00  PCM=1, Num of channel=1\n",
      " 24  25  26  27 --- 40  9c  00  00  sampling rate fs=40000, Sampling time Ts= 0.0000250\n",
      " 28  29  30  31 --- 80  38  01  00  byte rate=80000\n",
      " 32  33  34  35 --- 02  00  10  00  bits per sample=16\n",
      " 36  37  38  39 --- 64  61  74  61  \n",
      " 40  41  42  43 --- 00  18  06  00  audio number of byte=399360\n",
      "wav file current positon =44\n",
      "Starting reading data now at this position...!\n",
      "\n",
      "\n",
      "total readin 199680 data !! each data is two bytes !! \n",
      "cause read in tt= 0 less than two bytes!!\n",
      "total record time is 199680 x  0.0000250    4.992 second\n"
     ]
    }
   ],
   "source": [
    "!./bmp17.exe  microphone-results.wav"
   ]
  },
  {
   "cell_type": "code",
   "execution_count": 22,
   "metadata": {},
   "outputs": [
    {
     "data": {
      "text/plain": [
       "399404"
      ]
     },
     "execution_count": 22,
     "metadata": {},
     "output_type": "execute_result"
    }
   ],
   "source": [
    "399360+44"
   ]
  },
  {
   "cell_type": "code",
   "execution_count": 23,
   "metadata": {},
   "outputs": [
    {
     "data": {
      "text/plain": [
       "399360"
      ]
     },
     "execution_count": 23,
     "metadata": {},
     "output_type": "execute_result"
    }
   ],
   "source": [
    "199680*2"
   ]
  },
  {
   "cell_type": "code",
   "execution_count": 20,
   "metadata": {},
   "outputs": [],
   "source": [
    "# freq_analyz.py  is  from  pr1.py  \n",
    "# use SCIPY module to get the frequency\n",
    "import freq_analyz"
   ]
  },
  {
   "cell_type": "code",
   "execution_count": 24,
   "metadata": {},
   "outputs": [
    {
     "name": "stdout",
     "output_type": "stream",
     "text": [
      "The frequency is : 568.0\n"
     ]
    }
   ],
   "source": [
    "freq_analyz.get_freq('out.data',40000)"
   ]
  },
  {
   "cell_type": "code",
   "execution_count": null,
   "metadata": {},
   "outputs": [],
   "source": []
  }
 ],
 "metadata": {
  "kernelspec": {
   "display_name": "Python 3",
   "language": "python",
   "name": "python3"
  },
  "language_info": {
   "codemirror_mode": {
    "name": "ipython",
    "version": 3
   },
   "file_extension": ".py",
   "mimetype": "text/x-python",
   "name": "python",
   "nbconvert_exporter": "python",
   "pygments_lexer": "ipython3",
   "version": "3.6.6"
  }
 },
 "nbformat": 4,
 "nbformat_minor": 2
}
