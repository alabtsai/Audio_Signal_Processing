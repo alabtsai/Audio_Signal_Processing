{
 "cells": [
  {
   "cell_type": "code",
   "execution_count": 1,
   "metadata": {},
   "outputs": [],
   "source": [
    "import speech_recognition as sr"
   ]
  },
  {
   "cell_type": "code",
   "execution_count": 2,
   "metadata": {},
   "outputs": [
    {
     "name": "stdout",
     "output_type": "stream",
     "text": [
      "0 HDA Intel HDMI: 0 (hw:0,3)\n",
      "1 HDA Intel HDMI: 1 (hw:0,7)\n",
      "2 HDA Intel HDMI: 2 (hw:0,8)\n",
      "3 HDA Intel HDMI: 3 (hw:0,9)\n",
      "4 HDA Intel HDMI: 4 (hw:0,10)\n",
      "5 HDA Intel PCH: ALC269VC Analog (hw:1,0)\n",
      "6 hdmi\n",
      "7 pulse\n",
      "8 default\n"
     ]
    }
   ],
   "source": [
    "for index, name in enumerate(sr.Microphone.list_microphone_names()):\n",
    "    print(index, name)"
   ]
  },
  {
   "cell_type": "code",
   "execution_count": 3,
   "metadata": {},
   "outputs": [],
   "source": [
    "r = sr.Recognizer()"
   ]
  },
  {
   "cell_type": "code",
   "execution_count": 29,
   "metadata": {},
   "outputs": [],
   "source": [
    "# obtain audio from the microphone for 10 seconds\n",
    "with sr.Microphone() as source:\n",
    "    audio_f = r.record(source,duration=10)"
   ]
  },
  {
   "cell_type": "code",
   "execution_count": 30,
   "metadata": {},
   "outputs": [],
   "source": [
    "with open(\"microphone-results.wav\", \"wb\") as f:\n",
    "    f.write(audio_f.get_wav_data())"
   ]
  },
  {
   "cell_type": "code",
   "execution_count": 31,
   "metadata": {},
   "outputs": [],
   "source": [
    "with sr.AudioFile(\"microphone-results.wav\") as sourcef:\n",
    "    audiof = r.record(sourcef) # read the entire audio file"
   ]
  },
  {
   "cell_type": "code",
   "execution_count": 32,
   "metadata": {},
   "outputs": [
    {
     "name": "stdout",
     "output_type": "stream",
     "text": [
      "Google Speech Recognition thinks you said:\n",
      " hello students today I'm going to give a speech on how to use Python for machine learning thank you for your attention\n"
     ]
    }
   ],
   "source": [
    "print(\"Google Speech Recognition thinks you said:\\n\" , r.recognize_google(audiof))"
   ]
  },
  {
   "cell_type": "code",
   "execution_count": null,
   "metadata": {},
   "outputs": [],
   "source": []
  }
 ],
 "metadata": {
  "kernelspec": {
   "display_name": "Python 3",
   "language": "python",
   "name": "python3"
  },
  "language_info": {
   "codemirror_mode": {
    "name": "ipython",
    "version": 3
   },
   "file_extension": ".py",
   "mimetype": "text/x-python",
   "name": "python",
   "nbconvert_exporter": "python",
   "pygments_lexer": "ipython3",
   "version": "3.6.6"
  }
 },
 "nbformat": 4,
 "nbformat_minor": 2
}
